{
 "cells": [
  {
   "cell_type": "code",
   "execution_count": 1,
   "metadata": {},
   "outputs": [],
   "source": [
    "import warnings\n",
    "warnings.filterwarnings('ignore')"
   ]
  },
  {
   "cell_type": "code",
   "execution_count": 2,
   "metadata": {},
   "outputs": [],
   "source": [
    "import findspark\n",
    "findspark.init()"
   ]
  },
  {
   "cell_type": "code",
   "execution_count": 3,
   "metadata": {},
   "outputs": [],
   "source": [
    "from pyspark.sql import SparkSession"
   ]
  },
  {
   "cell_type": "code",
   "execution_count": 4,
   "metadata": {},
   "outputs": [
    {
     "name": "stderr",
     "output_type": "stream",
     "text": [
      "Setting default log level to \"WARN\".\n",
      "To adjust logging level use sc.setLogLevel(newLevel). For SparkR, use setLogLevel(newLevel).\n",
      "23/12/02 15:23:05 WARN NativeCodeLoader: Unable to load native-hadoop library for your platform... using builtin-java classes where applicable\n"
     ]
    }
   ],
   "source": [
    "spark = SparkSession.builder.appName(\"ETL using Spark\").getOrCreate()"
   ]
  },
  {
   "cell_type": "code",
   "execution_count": 5,
   "metadata": {},
   "outputs": [],
   "source": [
    "data = [(\"student1\",64,90),\n",
    "        (\"student2\",59,100),\n",
    "        (\"student3\",69,95),\n",
    "        (\"\",70,110),\n",
    "        (\"student5\",60,80),\n",
    "        (\"student3\",69,95),\n",
    "        (\"student6\",62,85),\n",
    "        (\"student7\",65,80),\n",
    "        (\"student7\",65,80)]"
   ]
  },
  {
   "cell_type": "code",
   "execution_count": 6,
   "metadata": {},
   "outputs": [
    {
     "name": "stderr",
     "output_type": "stream",
     "text": [
      "                                                                                \r"
     ]
    },
    {
     "name": "stdout",
     "output_type": "stream",
     "text": [
      "+--------+-------------+----------+\n",
      "| Student|Height_inches|Weight_lbs|\n",
      "+--------+-------------+----------+\n",
      "|student1|           64|        90|\n",
      "|student2|           59|       100|\n",
      "|student3|           69|        95|\n",
      "|        |           70|       110|\n",
      "|student5|           60|        80|\n",
      "|student3|           69|        95|\n",
      "|student6|           62|        85|\n",
      "|student7|           65|        80|\n",
      "|student7|           65|        80|\n",
      "+--------+-------------+----------+\n",
      "\n"
     ]
    }
   ],
   "source": [
    "df = spark.createDataFrame(data, [\"Student\", \"Height_inches\", \"Weight_lbs\"])\n",
    "df.show()"
   ]
  },
  {
   "cell_type": "code",
   "execution_count": 7,
   "metadata": {},
   "outputs": [
    {
     "name": "stderr",
     "output_type": "stream",
     "text": [
      "                                                                                \r"
     ]
    }
   ],
   "source": [
    "df.write.csv(\"student-hw.csv\", header=True)"
   ]
  },
  {
   "cell_type": "markdown",
   "metadata": {},
   "source": [
    "#### Read from a csv file to a parquet file ####"
   ]
  },
  {
   "cell_type": "code",
   "execution_count": 8,
   "metadata": {},
   "outputs": [
    {
     "name": "stdout",
     "output_type": "stream",
     "text": [
      "+--------+-------------+----------+\n",
      "| Student|Height_inches|Weight_lbs|\n",
      "+--------+-------------+----------+\n",
      "|student6|           62|        85|\n",
      "|student7|           65|        80|\n",
      "|student7|           65|        80|\n",
      "|student1|           64|        90|\n",
      "|student2|           59|       100|\n",
      "|student5|           60|        80|\n",
      "|student3|           69|        95|\n",
      "|student3|           69|        95|\n",
      "|    NULL|           70|       110|\n",
      "+--------+-------------+----------+\n",
      "\n"
     ]
    }
   ],
   "source": [
    "df = spark.read.csv('student-hw.csv', header=True, inferSchema=True)\n",
    "df.show()"
   ]
  },
  {
   "cell_type": "code",
   "execution_count": 9,
   "metadata": {},
   "outputs": [
    {
     "data": {
      "text/plain": [
       "9"
      ]
     },
     "execution_count": 9,
     "metadata": {},
     "output_type": "execute_result"
    }
   ],
   "source": [
    "df.count()"
   ]
  },
  {
   "cell_type": "code",
   "execution_count": 10,
   "metadata": {},
   "outputs": [],
   "source": [
    "df = df.dropDuplicates()"
   ]
  },
  {
   "cell_type": "code",
   "execution_count": 11,
   "metadata": {},
   "outputs": [
    {
     "name": "stdout",
     "output_type": "stream",
     "text": [
      "+--------+-------------+----------+\n",
      "| Student|Height_inches|Weight_lbs|\n",
      "+--------+-------------+----------+\n",
      "|student6|           62|        85|\n",
      "|student7|           65|        80|\n",
      "|student2|           59|       100|\n",
      "|student1|           64|        90|\n",
      "|student3|           69|        95|\n",
      "|student5|           60|        80|\n",
      "|    NULL|           70|       110|\n",
      "+--------+-------------+----------+\n",
      "\n"
     ]
    }
   ],
   "source": [
    "df.show()"
   ]
  },
  {
   "cell_type": "code",
   "execution_count": 12,
   "metadata": {},
   "outputs": [
    {
     "data": {
      "text/plain": [
       "7"
      ]
     },
     "execution_count": 12,
     "metadata": {},
     "output_type": "execute_result"
    }
   ],
   "source": [
    "df.count()"
   ]
  },
  {
   "cell_type": "code",
   "execution_count": 13,
   "metadata": {},
   "outputs": [],
   "source": [
    "df = df.dropna()"
   ]
  },
  {
   "cell_type": "code",
   "execution_count": 14,
   "metadata": {},
   "outputs": [
    {
     "data": {
      "text/plain": [
       "6"
      ]
     },
     "execution_count": 14,
     "metadata": {},
     "output_type": "execute_result"
    }
   ],
   "source": [
    "df.count()"
   ]
  },
  {
   "cell_type": "code",
   "execution_count": 15,
   "metadata": {},
   "outputs": [
    {
     "name": "stdout",
     "output_type": "stream",
     "text": [
      "+--------+-------------+----------+\n",
      "| Student|Height_inches|Weight_lbs|\n",
      "+--------+-------------+----------+\n",
      "|student6|           62|        85|\n",
      "|student7|           65|        80|\n",
      "|student2|           59|       100|\n",
      "|student1|           64|        90|\n",
      "|student3|           69|        95|\n",
      "|student5|           60|        80|\n",
      "+--------+-------------+----------+\n",
      "\n"
     ]
    }
   ],
   "source": [
    "df.show()"
   ]
  },
  {
   "cell_type": "code",
   "execution_count": 16,
   "metadata": {},
   "outputs": [
    {
     "name": "stderr",
     "output_type": "stream",
     "text": [
      "                                                                                \r"
     ]
    }
   ],
   "source": [
    "df.write.mode(\"overwrite\").parquet(\"student-hw.parquet\")"
   ]
  },
  {
   "cell_type": "code",
   "execution_count": 17,
   "metadata": {},
   "outputs": [
    {
     "name": "stdout",
     "output_type": "stream",
     "text": [
      "+--------+-------------+----------+\n",
      "| Student|Height_inches|Weight_lbs|\n",
      "+--------+-------------+----------+\n",
      "|student6|           62|        85|\n",
      "|student7|           65|        80|\n",
      "|student2|           59|       100|\n",
      "|student1|           64|        90|\n",
      "|student3|           69|        95|\n",
      "|student5|           60|        80|\n",
      "+--------+-------------+----------+\n",
      "\n"
     ]
    }
   ],
   "source": [
    "df = spark.read.parquet(\"./student-hw.parquet\")\n",
    "df.show()"
   ]
  },
  {
   "cell_type": "code",
   "execution_count": 18,
   "metadata": {},
   "outputs": [
    {
     "name": "stdout",
     "output_type": "stream",
     "text": [
      "total 8\n",
      "-rw-r--r--  1 mike  staff     0 Dec  2 15:23 _SUCCESS\n",
      "-rw-r--r--  1 mike  staff  1053 Dec  2 15:23 part-00000-94537c2f-338d-4494-b19d-15b678f95dd0-c000.snappy.parquet\n"
     ]
    }
   ],
   "source": [
    "!ls -l student-hw.parquet"
   ]
  },
  {
   "cell_type": "markdown",
   "metadata": {},
   "source": [
    "#### Condense Parquet to a single file #####"
   ]
  },
  {
   "cell_type": "code",
   "execution_count": 19,
   "metadata": {},
   "outputs": [],
   "source": [
    "df = df.repartition(1)"
   ]
  },
  {
   "cell_type": "code",
   "execution_count": 20,
   "metadata": {},
   "outputs": [],
   "source": [
    "df.write.mode(\"overwrite\").parquet(\"student-hw-single.parquet\")"
   ]
  },
  {
   "cell_type": "code",
   "execution_count": 21,
   "metadata": {},
   "outputs": [
    {
     "name": "stdout",
     "output_type": "stream",
     "text": [
      "total 8\n",
      "-rw-r--r--  1 mike  staff     0 Dec  2 15:23 _SUCCESS\n",
      "-rw-r--r--  1 mike  staff  1053 Dec  2 15:23 part-00000-6132e7e1-6fa3-4701-a679-db2827570ad5-c000.snappy.parquet\n"
     ]
    }
   ],
   "source": [
    "!ls -l student-hw-single.parquet"
   ]
  },
  {
   "cell_type": "markdown",
   "metadata": {},
   "source": [
    "#### Read from a parquet file and write to csv file ####"
   ]
  },
  {
   "cell_type": "code",
   "execution_count": 22,
   "metadata": {},
   "outputs": [
    {
     "name": "stdout",
     "output_type": "stream",
     "text": [
      "+--------+-------------+----------+\n",
      "| Student|Height_inches|Weight_lbs|\n",
      "+--------+-------------+----------+\n",
      "|student6|           62|        85|\n",
      "|student7|           65|        80|\n",
      "|student2|           59|       100|\n",
      "|student1|           64|        90|\n",
      "|student3|           69|        95|\n",
      "|student5|           60|        80|\n",
      "+--------+-------------+----------+\n",
      "\n"
     ]
    }
   ],
   "source": [
    "df = spark.read.parquet(\"student-hw-single.parquet\")\n",
    "df.show()"
   ]
  },
  {
   "cell_type": "markdown",
   "metadata": {},
   "source": [
    "#### Transform the data ####"
   ]
  },
  {
   "cell_type": "code",
   "execution_count": 23,
   "metadata": {},
   "outputs": [],
   "source": [
    "from pyspark.sql.functions import expr\n",
    "from pyspark.sql.functions import col\n",
    "from pyspark.sql.functions import round"
   ]
  },
  {
   "cell_type": "code",
   "execution_count": 24,
   "metadata": {},
   "outputs": [
    {
     "name": "stdout",
     "output_type": "stream",
     "text": [
      "+--------+-------------+----------+---------+\n",
      "| Student|Height_inches|Weight_lbs|Height_cm|\n",
      "+--------+-------------+----------+---------+\n",
      "|student6|           62|        85|   157.48|\n",
      "|student7|           65|        80|   165.10|\n",
      "|student2|           59|       100|   149.86|\n",
      "|student1|           64|        90|   162.56|\n",
      "|student3|           69|        95|   175.26|\n",
      "|student5|           60|        80|   152.40|\n",
      "+--------+-------------+----------+---------+\n",
      "\n"
     ]
    }
   ],
   "source": [
    "df = df.withColumn(\"Height_cm\", expr(\"Height_inches * 2.54\"))\n",
    "df.show()"
   ]
  },
  {
   "cell_type": "code",
   "execution_count": 26,
   "metadata": {},
   "outputs": [
    {
     "name": "stdout",
     "output_type": "stream",
     "text": [
      "+--------+-------------+----------+---------+---------+\n",
      "| Student|Height_inches|Weight_lbs|Height_cm|Weight_kg|\n",
      "+--------+-------------+----------+---------+---------+\n",
      "|student6|           62|        85|   157.48|    38.56|\n",
      "|student7|           65|        80|   165.10|    36.29|\n",
      "|student2|           59|       100|   149.86|    45.36|\n",
      "|student1|           64|        90|   162.56|    40.82|\n",
      "|student3|           69|        95|   175.26|    43.09|\n",
      "|student5|           60|        80|   152.40|    36.29|\n",
      "+--------+-------------+----------+---------+---------+\n",
      "\n"
     ]
    }
   ],
   "source": [
    "df = df.withColumn(\"Weight_kg\", round(col(\"Weight_lbs\") * 0.453592, 2))\n",
    "df.show()"
   ]
  },
  {
   "cell_type": "code",
   "execution_count": 27,
   "metadata": {},
   "outputs": [
    {
     "name": "stdout",
     "output_type": "stream",
     "text": [
      "+--------+---------+---------+\n",
      "| Student|Height_cm|Weight_kg|\n",
      "+--------+---------+---------+\n",
      "|student6|   157.48|    38.56|\n",
      "|student7|   165.10|    36.29|\n",
      "|student2|   149.86|    45.36|\n",
      "|student1|   162.56|    40.82|\n",
      "|student3|   175.26|    43.09|\n",
      "|student5|   152.40|    36.29|\n",
      "+--------+---------+---------+\n",
      "\n"
     ]
    }
   ],
   "source": [
    "df = df.drop(\"Height_inches\", \"Weight_lbs\")\n",
    "df.show()"
   ]
  },
  {
   "cell_type": "code",
   "execution_count": 28,
   "metadata": {},
   "outputs": [],
   "source": [
    "df.write.mode(\"overwrite\").csv(\"student_transformed.csv\", header=True)"
   ]
  },
  {
   "cell_type": "code",
   "execution_count": 29,
   "metadata": {},
   "outputs": [
    {
     "name": "stdout",
     "output_type": "stream",
     "text": [
      "+--------+---------+---------+\n",
      "| Student|Height_cm|Weight_kg|\n",
      "+--------+---------+---------+\n",
      "|student6|   157.48|    38.56|\n",
      "|student7|    165.1|    36.29|\n",
      "|student2|   149.86|    45.36|\n",
      "|student1|   162.56|    40.82|\n",
      "|student3|   175.26|    43.09|\n",
      "|student5|    152.4|    36.29|\n",
      "+--------+---------+---------+\n",
      "\n"
     ]
    }
   ],
   "source": [
    "df = spark.read.csv('student_transformed.csv', header=True, inferSchema=True)\n",
    "df.show()"
   ]
  },
  {
   "cell_type": "code",
   "execution_count": 30,
   "metadata": {},
   "outputs": [],
   "source": [
    "spark.stop()"
   ]
  },
  {
   "cell_type": "code",
   "execution_count": null,
   "metadata": {},
   "outputs": [],
   "source": []
  }
 ],
 "metadata": {
  "kernelspec": {
   "display_name": "Python 3",
   "language": "python",
   "name": "python3"
  },
  "language_info": {
   "codemirror_mode": {
    "name": "ipython",
    "version": 3
   },
   "file_extension": ".py",
   "mimetype": "text/x-python",
   "name": "python",
   "nbconvert_exporter": "python",
   "pygments_lexer": "ipython3",
   "version": "3.9.6"
  }
 },
 "nbformat": 4,
 "nbformat_minor": 2
}
