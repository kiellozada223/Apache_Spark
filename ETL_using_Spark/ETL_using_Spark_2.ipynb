{
 "cells": [
  {
   "cell_type": "code",
   "execution_count": 1,
   "metadata": {},
   "outputs": [],
   "source": [
    "import warnings\n",
    "warnings.filterwarnings('ignore')"
   ]
  },
  {
   "cell_type": "code",
   "execution_count": 2,
   "metadata": {},
   "outputs": [],
   "source": [
    "import findspark\n",
    "findspark.init()"
   ]
  },
  {
   "cell_type": "code",
   "execution_count": 3,
   "metadata": {},
   "outputs": [],
   "source": [
    "from pyspark.sql import SparkSession"
   ]
  },
  {
   "cell_type": "code",
   "execution_count": 4,
   "metadata": {},
   "outputs": [
    {
     "name": "stderr",
     "output_type": "stream",
     "text": [
      "Setting default log level to \"WARN\".\n",
      "To adjust logging level use sc.setLogLevel(newLevel). For SparkR, use setLogLevel(newLevel).\n",
      "23/12/02 15:53:08 WARN NativeCodeLoader: Unable to load native-hadoop library for your platform... using builtin-java classes where applicable\n"
     ]
    }
   ],
   "source": [
    "spark = SparkSession.builder.appName(\"ETL using Spark\").getOrCreate()"
   ]
  },
  {
   "cell_type": "markdown",
   "metadata": {},
   "source": [
    "#### Load data from previous notebook ####"
   ]
  },
  {
   "cell_type": "code",
   "execution_count": 5,
   "metadata": {},
   "outputs": [
    {
     "name": "stderr",
     "output_type": "stream",
     "text": [
      "                                                                                \r"
     ]
    },
    {
     "name": "stdout",
     "output_type": "stream",
     "text": [
      "+--------+---------+---------+\n",
      "| Student|Height_cm|Weight_kg|\n",
      "+--------+---------+---------+\n",
      "|student6|   157.48|    38.56|\n",
      "|student7|    165.1|    36.29|\n",
      "|student2|   149.86|    45.36|\n",
      "|student1|   162.56|    40.82|\n",
      "|student3|   175.26|    43.09|\n",
      "|student5|    152.4|    36.29|\n",
      "+--------+---------+---------+\n",
      "\n"
     ]
    }
   ],
   "source": [
    "df = spark.read.csv(\"student_transformed.csv\", header=True, inferSchema=True)\n",
    "df.show()"
   ]
  },
  {
   "cell_type": "markdown",
   "metadata": {},
   "source": [
    "#### Transform"
   ]
  },
  {
   "cell_type": "code",
   "execution_count": 6,
   "metadata": {},
   "outputs": [],
   "source": [
    "from pyspark.sql.functions import col\n",
    "from pyspark.sql.functions import expr\n",
    "from pyspark.sql.functions import round"
   ]
  },
  {
   "cell_type": "code",
   "execution_count": 7,
   "metadata": {},
   "outputs": [
    {
     "name": "stdout",
     "output_type": "stream",
     "text": [
      "+--------+---------+---------+-------------+\n",
      "| Student|Height_cm|Weight_kg|Height_meters|\n",
      "+--------+---------+---------+-------------+\n",
      "|student6|   157.48|    38.56|         1.57|\n",
      "|student7|    165.1|    36.29|         1.65|\n",
      "|student2|   149.86|    45.36|          1.5|\n",
      "|student1|   162.56|    40.82|         1.63|\n",
      "|student3|   175.26|    43.09|         1.75|\n",
      "|student5|    152.4|    36.29|         1.52|\n",
      "+--------+---------+---------+-------------+\n",
      "\n"
     ]
    }
   ],
   "source": [
    "# Transform Height_cm to meters\n",
    "df = df.withColumn(\"Height_meters\", round(col(\"Height_cm\") / 100 , 2))\n",
    "df.show()"
   ]
  },
  {
   "cell_type": "code",
   "execution_count": 10,
   "metadata": {},
   "outputs": [
    {
     "name": "stdout",
     "output_type": "stream",
     "text": [
      "+--------+---------+---------+-------------+-----+\n",
      "| Student|Height_cm|Weight_kg|Height_meters|  BMI|\n",
      "+--------+---------+---------+-------------+-----+\n",
      "|student6|   157.48|    38.56|         1.57|15.64|\n",
      "|student7|    165.1|    36.29|         1.65|13.33|\n",
      "|student2|   149.86|    45.36|          1.5|20.16|\n",
      "|student1|   162.56|    40.82|         1.63|15.36|\n",
      "|student3|   175.26|    43.09|         1.75|14.07|\n",
      "|student5|    152.4|    36.29|         1.52|15.71|\n",
      "+--------+---------+---------+-------------+-----+\n",
      "\n"
     ]
    }
   ],
   "source": [
    "# Create BMI column\n",
    "# BMI = Weight / (Height * Height)\n",
    "# Weight must be in kg and Height in meters\n",
    "\n",
    "df = df.withColumn(\"BMI\", round(col(\"Weight_kg\")/(col(\"Height_meters\") * col(\"Height_meters\")),2))\n",
    "df.show()"
   ]
  },
  {
   "cell_type": "code",
   "execution_count": 11,
   "metadata": {},
   "outputs": [
    {
     "name": "stdout",
     "output_type": "stream",
     "text": [
      "+--------+---------+-------------+-----+\n",
      "| Student|Weight_kg|Height_meters|  BMI|\n",
      "+--------+---------+-------------+-----+\n",
      "|student6|    38.56|         1.57|15.64|\n",
      "|student7|    36.29|         1.65|13.33|\n",
      "|student2|    45.36|          1.5|20.16|\n",
      "|student1|    40.82|         1.63|15.36|\n",
      "|student3|    43.09|         1.75|14.07|\n",
      "|student5|    36.29|         1.52|15.71|\n",
      "+--------+---------+-------------+-----+\n",
      "\n"
     ]
    }
   ],
   "source": [
    "df = df.drop(\"Height_cm\")\n",
    "df.show()"
   ]
  },
  {
   "cell_type": "code",
   "execution_count": 12,
   "metadata": {},
   "outputs": [
    {
     "name": "stderr",
     "output_type": "stream",
     "text": [
      "                                                                                \r"
     ]
    }
   ],
   "source": [
    "df.write.mode(\"overwrite\").parquet(\"student_transformed.parquet\")"
   ]
  },
  {
   "cell_type": "code",
   "execution_count": 13,
   "metadata": {},
   "outputs": [
    {
     "name": "stdout",
     "output_type": "stream",
     "text": [
      "+--------+---------+-------------+-----+\n",
      "| Student|Weight_kg|Height_meters|  BMI|\n",
      "+--------+---------+-------------+-----+\n",
      "|student6|    38.56|         1.57|15.64|\n",
      "|student7|    36.29|         1.65|13.33|\n",
      "|student2|    45.36|          1.5|20.16|\n",
      "|student1|    40.82|         1.63|15.36|\n",
      "|student3|    43.09|         1.75|14.07|\n",
      "|student5|    36.29|         1.52|15.71|\n",
      "+--------+---------+-------------+-----+\n",
      "\n"
     ]
    }
   ],
   "source": [
    "df = spark.read.parquet(\"./student_transformed.parquet/\")\n",
    "df.show()"
   ]
  },
  {
   "cell_type": "code",
   "execution_count": 14,
   "metadata": {},
   "outputs": [],
   "source": [
    "spark.stop()"
   ]
  },
  {
   "cell_type": "code",
   "execution_count": null,
   "metadata": {},
   "outputs": [],
   "source": []
  }
 ],
 "metadata": {
  "kernelspec": {
   "display_name": "Python 3",
   "language": "python",
   "name": "python3"
  },
  "language_info": {
   "codemirror_mode": {
    "name": "ipython",
    "version": 3
   },
   "file_extension": ".py",
   "mimetype": "text/x-python",
   "name": "python",
   "nbconvert_exporter": "python",
   "pygments_lexer": "ipython3",
   "version": "3.9.6"
  }
 },
 "nbformat": 4,
 "nbformat_minor": 2
}
