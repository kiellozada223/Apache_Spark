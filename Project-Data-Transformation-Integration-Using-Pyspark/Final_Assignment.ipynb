{
 "cells": [
  {
   "cell_type": "code",
   "execution_count": 1,
   "metadata": {},
   "outputs": [],
   "source": [
    "import findspark\n",
    "findspark.init()"
   ]
  },
  {
   "cell_type": "code",
   "execution_count": 2,
   "metadata": {},
   "outputs": [],
   "source": [
    "from pyspark import SparkContext, SparkConf\n",
    "from pyspark.sql import SparkSession"
   ]
  },
  {
   "cell_type": "code",
   "execution_count": 3,
   "metadata": {},
   "outputs": [
    {
     "name": "stderr",
     "output_type": "stream",
     "text": [
      "Setting default log level to \"WARN\".\n",
      "To adjust logging level use sc.setLogLevel(newLevel). For SparkR, use setLogLevel(newLevel).\n",
      "24/01/12 10:18:54 WARN NativeCodeLoader: Unable to load native-hadoop library for your platform... using builtin-java classes where applicable\n"
     ]
    }
   ],
   "source": [
    "sc = SparkContext.getOrCreate()\n",
    "\n",
    "spark = SparkSession.builder.appName(\"Python Spark Dataframes\").config(\"spark.sql.legacy.timeParserPolicy\", \"LEGACY\").getOrCreate()"
   ]
  },
  {
   "cell_type": "code",
   "execution_count": 4,
   "metadata": {},
   "outputs": [
    {
     "name": "stderr",
     "output_type": "stream",
     "text": [
      "                                                                                \r"
     ]
    }
   ],
   "source": [
    "df1 = spark.read.csv(\"dataset1.csv\", header=True, inferSchema=True)\n",
    "df2 = spark.read.csv(\"dataset2.csv\", header=True, inferSchema=True)"
   ]
  },
  {
   "cell_type": "code",
   "execution_count": 5,
   "metadata": {},
   "outputs": [
    {
     "name": "stdout",
     "output_type": "stream",
     "text": [
      "+-----------+-----------+------+-----------+--------+\n",
      "|customer_id|date_column|amount|description|location|\n",
      "+-----------+-----------+------+-----------+--------+\n",
      "|          1|   1/1/2022|  5000| Purchase A| Store A|\n",
      "|          2|  15/2/2022|  1200| Purchase B| Store B|\n",
      "|          3|  20/3/2022|   800| Purchase C| Store C|\n",
      "|          4|  10/4/2022|  3000| Purchase D| Store D|\n",
      "|          5|   5/5/2022|  6000| Purchase E| Store E|\n",
      "+-----------+-----------+------+-----------+--------+\n",
      "only showing top 5 rows\n",
      "\n"
     ]
    }
   ],
   "source": [
    "df1.show(5)"
   ]
  },
  {
   "cell_type": "code",
   "execution_count": 6,
   "metadata": {},
   "outputs": [
    {
     "name": "stdout",
     "output_type": "stream",
     "text": [
      "+-----------+----------------+-----+------+\n",
      "|customer_id|transaction_date|value| notes|\n",
      "+-----------+----------------+-----+------+\n",
      "|          1|        1/1/2022| 1500|Note 1|\n",
      "|          2|       15/2/2022| 2000|Note 2|\n",
      "|          3|       20/3/2022| 1000|Note 3|\n",
      "|          4|       10/4/2022| 2500|Note 4|\n",
      "|          5|        5/5/2022| 1800|Note 5|\n",
      "+-----------+----------------+-----+------+\n",
      "only showing top 5 rows\n",
      "\n"
     ]
    }
   ],
   "source": [
    "df2.show(5)"
   ]
  },
  {
   "cell_type": "code",
   "execution_count": 7,
   "metadata": {},
   "outputs": [
    {
     "name": "stdout",
     "output_type": "stream",
     "text": [
      "root\n",
      " |-- customer_id: integer (nullable = true)\n",
      " |-- date_column: string (nullable = true)\n",
      " |-- amount: integer (nullable = true)\n",
      " |-- description: string (nullable = true)\n",
      " |-- location: string (nullable = true)\n",
      "\n",
      "root\n",
      " |-- customer_id: integer (nullable = true)\n",
      " |-- transaction_date: string (nullable = true)\n",
      " |-- value: integer (nullable = true)\n",
      " |-- notes: string (nullable = true)\n",
      "\n"
     ]
    }
   ],
   "source": [
    "df1.printSchema()\n",
    "df2.printSchema()"
   ]
  },
  {
   "cell_type": "code",
   "execution_count": 8,
   "metadata": {},
   "outputs": [],
   "source": [
    "from pyspark.sql import functions as F"
   ]
  },
  {
   "cell_type": "code",
   "execution_count": 9,
   "metadata": {},
   "outputs": [
    {
     "name": "stdout",
     "output_type": "stream",
     "text": [
      "+-----------+----------------+-----+-------+-------+\n",
      "|customer_id|transaction_date|value|  notes|quarter|\n",
      "+-----------+----------------+-----+-------+-------+\n",
      "|          1|        1/1/2022| 1500| Note 1|      1|\n",
      "|          2|       15/2/2022| 2000| Note 2|      1|\n",
      "|          3|       20/3/2022| 1000| Note 3|      1|\n",
      "|          4|       10/4/2022| 2500| Note 4|      2|\n",
      "|          5|        5/5/2022| 1800| Note 5|      2|\n",
      "|          6|       10/6/2022| 1200| Note 6|      2|\n",
      "|          7|       15/7/2022|  700| Note 7|      3|\n",
      "|          8|       20/8/2022| 3000| Note 8|      3|\n",
      "|          9|       25/9/2022|  600| Note 9|      3|\n",
      "|         10|      30/10/2022| 1200|Note 10|      4|\n",
      "|         11|       5/11/2022| 1500|Note 11|      4|\n",
      "|         12|      10/12/2022|  800|Note 12|      4|\n",
      "|         13|       15/1/2023| 2000|Note 13|      1|\n",
      "|         14|       20/2/2023|  700|Note 14|      1|\n",
      "|         15|       25/3/2023| 1800|Note 15|      1|\n",
      "|         16|       30/4/2023| 1000|Note 16|      2|\n",
      "|         17|        5/5/2023|  400|Note 17|      2|\n",
      "|         18|       10/6/2023| 1500|Note 18|      2|\n",
      "|         19|       15/7/2023| 3000|Note 19|      3|\n",
      "|         20|       20/8/2023|  600|Note 20|      3|\n",
      "+-----------+----------------+-----+-------+-------+\n",
      "only showing top 20 rows\n",
      "\n"
     ]
    }
   ],
   "source": [
    "df2.withColumn(\"quarter\", F.quarter(F.to_date(F.col(\"transaction_date\"), \"dd/MM/yyyy\"))).show()"
   ]
  },
  {
   "cell_type": "code",
   "execution_count": 10,
   "metadata": {},
   "outputs": [],
   "source": [
    "df1 = df1.withColumn(\"year\", F.year(F.to_date(F.col(\"date_column\"), \"dd/MM/yyyy\")))\n",
    "df2 = df2.withColumn(\"quarter\", F.quarter(F.to_date(F.col(\"transaction_date\"), \"dd/MM/yyyy\")))"
   ]
  },
  {
   "cell_type": "code",
   "execution_count": 11,
   "metadata": {},
   "outputs": [
    {
     "name": "stdout",
     "output_type": "stream",
     "text": [
      "+-----------+-----------+------+-----------+--------+----+\n",
      "|customer_id|date_column|amount|description|location|year|\n",
      "+-----------+-----------+------+-----------+--------+----+\n",
      "|          1|   1/1/2022|  5000| Purchase A| Store A|2022|\n",
      "|          2|  15/2/2022|  1200| Purchase B| Store B|2022|\n",
      "|          3|  20/3/2022|   800| Purchase C| Store C|2022|\n",
      "|          4|  10/4/2022|  3000| Purchase D| Store D|2022|\n",
      "|          5|   5/5/2022|  6000| Purchase E| Store E|2022|\n",
      "+-----------+-----------+------+-----------+--------+----+\n",
      "only showing top 5 rows\n",
      "\n"
     ]
    }
   ],
   "source": [
    "df1.show(5)"
   ]
  },
  {
   "cell_type": "code",
   "execution_count": 12,
   "metadata": {},
   "outputs": [
    {
     "name": "stdout",
     "output_type": "stream",
     "text": [
      "+-----------+----------------+-----+------+-------+\n",
      "|customer_id|transaction_date|value| notes|quarter|\n",
      "+-----------+----------------+-----+------+-------+\n",
      "|          1|        1/1/2022| 1500|Note 1|      1|\n",
      "|          2|       15/2/2022| 2000|Note 2|      1|\n",
      "|          3|       20/3/2022| 1000|Note 3|      1|\n",
      "|          4|       10/4/2022| 2500|Note 4|      2|\n",
      "|          5|        5/5/2022| 1800|Note 5|      2|\n",
      "+-----------+----------------+-----+------+-------+\n",
      "only showing top 5 rows\n",
      "\n"
     ]
    }
   ],
   "source": [
    "df2.show(5)"
   ]
  },
  {
   "cell_type": "code",
   "execution_count": 13,
   "metadata": {},
   "outputs": [],
   "source": [
    "df1 = df1.withColumnRenamed('amount', 'transaction_amount')\n",
    "df2 = df2.withColumnRenamed('value', 'transaction_value')"
   ]
  },
  {
   "cell_type": "code",
   "execution_count": 14,
   "metadata": {},
   "outputs": [
    {
     "name": "stdout",
     "output_type": "stream",
     "text": [
      "+-----------+-----------+------------------+-----------+--------+----+\n",
      "|customer_id|date_column|transaction_amount|description|location|year|\n",
      "+-----------+-----------+------------------+-----------+--------+----+\n",
      "|          1|   1/1/2022|              5000| Purchase A| Store A|2022|\n",
      "|          2|  15/2/2022|              1200| Purchase B| Store B|2022|\n",
      "|          3|  20/3/2022|               800| Purchase C| Store C|2022|\n",
      "|          4|  10/4/2022|              3000| Purchase D| Store D|2022|\n",
      "|          5|   5/5/2022|              6000| Purchase E| Store E|2022|\n",
      "+-----------+-----------+------------------+-----------+--------+----+\n",
      "only showing top 5 rows\n",
      "\n",
      "+-----------+----------------+-----------------+------+-------+\n",
      "|customer_id|transaction_date|transaction_value| notes|quarter|\n",
      "+-----------+----------------+-----------------+------+-------+\n",
      "|          1|        1/1/2022|             1500|Note 1|      1|\n",
      "|          2|       15/2/2022|             2000|Note 2|      1|\n",
      "|          3|       20/3/2022|             1000|Note 3|      1|\n",
      "|          4|       10/4/2022|             2500|Note 4|      2|\n",
      "|          5|        5/5/2022|             1800|Note 5|      2|\n",
      "+-----------+----------------+-----------------+------+-------+\n",
      "only showing top 5 rows\n",
      "\n"
     ]
    }
   ],
   "source": [
    "df1.show(5)\n",
    "df2.show(5)"
   ]
  },
  {
   "cell_type": "code",
   "execution_count": 15,
   "metadata": {},
   "outputs": [],
   "source": [
    "df1 = df1.drop('description','location')\n",
    "df2 = df2.drop('notes')"
   ]
  },
  {
   "cell_type": "code",
   "execution_count": 16,
   "metadata": {},
   "outputs": [
    {
     "name": "stdout",
     "output_type": "stream",
     "text": [
      "+-----------+-----------+------------------+----+\n",
      "|customer_id|date_column|transaction_amount|year|\n",
      "+-----------+-----------+------------------+----+\n",
      "|          1|   1/1/2022|              5000|2022|\n",
      "|          2|  15/2/2022|              1200|2022|\n",
      "|          3|  20/3/2022|               800|2022|\n",
      "|          4|  10/4/2022|              3000|2022|\n",
      "|          5|   5/5/2022|              6000|2022|\n",
      "+-----------+-----------+------------------+----+\n",
      "only showing top 5 rows\n",
      "\n",
      "+-----------+----------------+-----------------+-------+\n",
      "|customer_id|transaction_date|transaction_value|quarter|\n",
      "+-----------+----------------+-----------------+-------+\n",
      "|          1|        1/1/2022|             1500|      1|\n",
      "|          2|       15/2/2022|             2000|      1|\n",
      "|          3|       20/3/2022|             1000|      1|\n",
      "|          4|       10/4/2022|             2500|      2|\n",
      "|          5|        5/5/2022|             1800|      2|\n",
      "+-----------+----------------+-----------------+-------+\n",
      "only showing top 5 rows\n",
      "\n"
     ]
    }
   ],
   "source": [
    "df1.show(5)\n",
    "df2.show(5)"
   ]
  },
  {
   "cell_type": "code",
   "execution_count": 17,
   "metadata": {},
   "outputs": [
    {
     "name": "stdout",
     "output_type": "stream",
     "text": [
      "+-----------+-----------+------------------+----+----------------+-----------------+-------+\n",
      "|customer_id|date_column|transaction_amount|year|transaction_date|transaction_value|quarter|\n",
      "+-----------+-----------+------------------+----+----------------+-----------------+-------+\n",
      "|          1|   1/1/2022|              5000|2022|        1/1/2022|             1500|      1|\n",
      "|          2|  15/2/2022|              1200|2022|       15/2/2022|             2000|      1|\n",
      "|          3|  20/3/2022|               800|2022|       20/3/2022|             1000|      1|\n",
      "|          4|  10/4/2022|              3000|2022|       10/4/2022|             2500|      2|\n",
      "|          5|   5/5/2022|              6000|2022|        5/5/2022|             1800|      2|\n",
      "+-----------+-----------+------------------+----+----------------+-----------------+-------+\n",
      "only showing top 5 rows\n",
      "\n"
     ]
    }
   ],
   "source": [
    "joined_df = df1.join(df2, on='customer_id', how='inner')\n",
    "joined_df.show(5)"
   ]
  },
  {
   "cell_type": "code",
   "execution_count": 18,
   "metadata": {},
   "outputs": [
    {
     "name": "stdout",
     "output_type": "stream",
     "text": [
      "+-----------+-----------+------------------+----+----------------+-----------------+-------+\n",
      "|customer_id|date_column|transaction_amount|year|transaction_date|transaction_value|quarter|\n",
      "+-----------+-----------+------------------+----+----------------+-----------------+-------+\n",
      "|          1|   1/1/2022|              5000|2022|        1/1/2022|             1500|      1|\n",
      "|          2|  15/2/2022|              1200|2022|       15/2/2022|             2000|      1|\n",
      "|          4|  10/4/2022|              3000|2022|       10/4/2022|             2500|      2|\n",
      "|          5|   5/5/2022|              6000|2022|        5/5/2022|             1800|      2|\n",
      "|          6|  10/6/2022|              4500|2022|       10/6/2022|             1200|      2|\n",
      "|          8|  20/8/2022|              3500|2022|       20/8/2022|             3000|      3|\n",
      "|         10| 30/10/2022|              1800|2022|      30/10/2022|             1200|      4|\n",
      "|         11|  5/11/2022|              2200|2022|       5/11/2022|             1500|      4|\n",
      "|         13|  15/1/2023|              4800|2023|       15/1/2023|             2000|      1|\n",
      "|         15|  25/3/2023|              4200|2023|       25/3/2023|             1800|      1|\n",
      "+-----------+-----------+------------------+----+----------------+-----------------+-------+\n",
      "only showing top 10 rows\n",
      "\n"
     ]
    }
   ],
   "source": [
    "filtered_df = joined_df.where(joined_df['transaction_amount'] > 1000)\n",
    "filtered_df.show(10)"
   ]
  },
  {
   "cell_type": "code",
   "execution_count": 20,
   "metadata": {},
   "outputs": [
    {
     "name": "stdout",
     "output_type": "stream",
     "text": [
      "+-----------+------------+\n",
      "|customer_id|total_amount|\n",
      "+-----------+------------+\n",
      "|         31|        3200|\n",
      "|         85|        1800|\n",
      "|         78|        1500|\n",
      "|         34|        1200|\n",
      "|         81|        5500|\n",
      "|         28|        2600|\n",
      "|         76|        2600|\n",
      "|         27|        4200|\n",
      "|         91|        3200|\n",
      "|         22|        1200|\n",
      "|         93|        5500|\n",
      "|          1|        5000|\n",
      "|         52|        2600|\n",
      "|         13|        4800|\n",
      "|          6|        4500|\n",
      "|         16|        2600|\n",
      "|         40|        2600|\n",
      "|         94|        1200|\n",
      "|         57|        5500|\n",
      "|         54|        1500|\n",
      "+-----------+------------+\n",
      "only showing top 20 rows\n",
      "\n"
     ]
    }
   ],
   "source": [
    "total_transaction_amount_per_customer = filtered_df.groupBy('customer_id').agg(F.sum('transaction_amount').alias('total_amount'))\n",
    "total_transaction_amount_per_customer.show()"
   ]
  },
  {
   "cell_type": "code",
   "execution_count": 21,
   "metadata": {},
   "outputs": [
    {
     "name": "stdout",
     "output_type": "stream",
     "text": [
      "+-----------+------------+\n",
      "|customer_id|total_amount|\n",
      "+-----------+------------+\n",
      "|         31|        3200|\n",
      "|         85|        1800|\n",
      "|         65|         700|\n",
      "|         53|         700|\n",
      "|         78|        1500|\n",
      "|         34|        1200|\n",
      "|         81|        5500|\n",
      "|         28|        2600|\n",
      "|         76|        2600|\n",
      "|         26|         900|\n",
      "|         27|        4200|\n",
      "|         44|        1000|\n",
      "|         12|         900|\n",
      "|         91|        3200|\n",
      "|         22|        1200|\n",
      "|         93|        5500|\n",
      "|         47|         700|\n",
      "|          1|        5000|\n",
      "|         52|        2600|\n",
      "|         13|        4800|\n",
      "+-----------+------------+\n",
      "only showing top 20 rows\n",
      "\n"
     ]
    }
   ],
   "source": [
    "total_transactions_per_customer = joined_df.groupBy('customer_id').agg(F.sum('transaction_amount').alias('total_amount'))\n",
    "total_transactions_per_customer.show()"
   ]
  },
  {
   "cell_type": "code",
   "execution_count": 22,
   "metadata": {},
   "outputs": [
    {
     "name": "stderr",
     "output_type": "stream",
     "text": [
      "                                                                                \r"
     ]
    }
   ],
   "source": [
    "total_transactions_per_customer.write.mode(\"overwrite\").saveAsTable(\"customer_totals\")"
   ]
  },
  {
   "cell_type": "code",
   "execution_count": 23,
   "metadata": {},
   "outputs": [],
   "source": [
    "filtered_df.write.mode(\"overwrite\").parquet(\"filtered_data.parquet\")"
   ]
  },
  {
   "cell_type": "code",
   "execution_count": 25,
   "metadata": {},
   "outputs": [
    {
     "name": "stdout",
     "output_type": "stream",
     "text": [
      "+-----------+-----------+------------------+----+----------+\n",
      "|customer_id|date_column|transaction_amount|year|high_value|\n",
      "+-----------+-----------+------------------+----+----------+\n",
      "|          1|   1/1/2022|              5000|2022|        No|\n",
      "|          2|  15/2/2022|              1200|2022|        No|\n",
      "|          3|  20/3/2022|               800|2022|        No|\n",
      "|          4|  10/4/2022|              3000|2022|        No|\n",
      "|          5|   5/5/2022|              6000|2022|       Yes|\n",
      "|          6|  10/6/2022|              4500|2022|        No|\n",
      "|          7|  15/7/2022|               200|2022|        No|\n",
      "|          8|  20/8/2022|              3500|2022|        No|\n",
      "|          9|  25/9/2022|               700|2022|        No|\n",
      "|         10| 30/10/2022|              1800|2022|        No|\n",
      "|         11|  5/11/2022|              2200|2022|        No|\n",
      "|         12| 10/12/2022|               900|2022|        No|\n",
      "|         13|  15/1/2023|              4800|2023|        No|\n",
      "|         14|  20/2/2023|               300|2023|        No|\n",
      "|         15|  25/3/2023|              4200|2023|        No|\n",
      "|         16|  30/4/2023|              2600|2023|        No|\n",
      "|         17|   5/5/2023|               700|2023|        No|\n",
      "|         18|  10/6/2023|              1500|2023|        No|\n",
      "|         19|  15/7/2023|              3200|2023|        No|\n",
      "|         20|  20/8/2023|              1000|2023|        No|\n",
      "+-----------+-----------+------------------+----+----------+\n",
      "only showing top 20 rows\n",
      "\n"
     ]
    }
   ],
   "source": [
    "df1_high_value = df1.withColumn(\"high_value\", F.when(df1.transaction_amount > 5000,\n",
    "                                                     F.lit(\"Yes\")).otherwise(F.lit(\"No\")))\n",
    "df1_high_value.show()"
   ]
  },
  {
   "cell_type": "code",
   "execution_count": 26,
   "metadata": {},
   "outputs": [
    {
     "name": "stdout",
     "output_type": "stream",
     "text": [
      "+-------+-------------------------+\n",
      "|quarter|average_transaction_value|\n",
      "+-------+-------------------------+\n",
      "|      1|        1111.111111111111|\n",
      "|      3|       1958.3333333333333|\n",
      "|      4|        816.6666666666666|\n",
      "|      2|                   1072.0|\n",
      "+-------+-------------------------+\n",
      "\n"
     ]
    }
   ],
   "source": [
    "avg_transaction_per_quarter = df2.groupBy('quarter').agg(F.avg('transaction_value').alias(\"average_transaction_value\"))\n",
    "avg_transaction_per_quarter.show()"
   ]
  },
  {
   "cell_type": "code",
   "execution_count": 27,
   "metadata": {},
   "outputs": [],
   "source": [
    "avg_transaction_per_quarter.write.mode(\"overwrite\").saveAsTable(\"quarterly_averages\")"
   ]
  },
  {
   "cell_type": "code",
   "execution_count": 28,
   "metadata": {},
   "outputs": [
    {
     "name": "stdout",
     "output_type": "stream",
     "text": [
      "+----+-----------------------+\n",
      "|year|total_transaction_value|\n",
      "+----+-----------------------+\n",
      "|2025|                  25700|\n",
      "|2027|                  25700|\n",
      "|2023|                  28100|\n",
      "|2022|                  29800|\n",
      "|2026|                  25700|\n",
      "|2029|                  25700|\n",
      "|2030|                   9500|\n",
      "|2028|                  25700|\n",
      "|2024|                  25700|\n",
      "+----+-----------------------+\n",
      "\n"
     ]
    }
   ],
   "source": [
    "total_transaction_value_per_year = df1.groupBy('year').agg(F.sum('transaction_amount').alias('total_transaction_value'))\n",
    "total_transaction_value_per_year.show()"
   ]
  },
  {
   "cell_type": "code",
   "execution_count": 29,
   "metadata": {},
   "outputs": [],
   "source": [
    "total_transaction_value_per_year.write.mode(\"overwrite\").csv(\"total_transaction_value_per_year.csv\")"
   ]
  },
  {
   "cell_type": "code",
   "execution_count": null,
   "metadata": {},
   "outputs": [],
   "source": []
  }
 ],
 "metadata": {
  "kernelspec": {
   "display_name": "Python 3",
   "language": "python",
   "name": "python3"
  },
  "language_info": {
   "codemirror_mode": {
    "name": "ipython",
    "version": 3
   },
   "file_extension": ".py",
   "mimetype": "text/x-python",
   "name": "python",
   "nbconvert_exporter": "python",
   "pygments_lexer": "ipython3",
   "version": "3.9.6"
  }
 },
 "nbformat": 4,
 "nbformat_minor": 2
}
